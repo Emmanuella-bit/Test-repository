{
 "cells": [
  {
   "cell_type": "code",
   "execution_count": null,
   "metadata": {},
   "outputs": [],
   "source": [
    "# create a dictionary of cars and their models\n",
    "# get the values of a car called benz\n",
    "# find the length of the models for each car\n",
    "# find the keys and values in the dictionary\n",
    "# change the models of one of the car to different ones\n",
    "# update the dictionary with your own car company and models you would like to create\n",
    "\n",
    "# list\n",
    "# create a list of cars and  it should include duplicates\n",
    "# cast the list of cars to tuple\n",
    "# change the list of cars to a set\n",
    "\n",
    "# play around them, using various methods such a\n"
   ]
  },
  {
   "cell_type": "code",
   "execution_count": 30,
   "metadata": {},
   "outputs": [],
   "source": [
    "#create a dictionary of cars and their models\n",
    "Car_models = {\"Toyota\": [\"Camry\", \"Honda\", \"civic\"],\n",
    "              \"Ford\": [\"Mustang\", \"Explore\", \"Malibu\"],\n",
    "              \"BMW\": [\"x5\", \"3 series\", \"5 series\"],\n",
    "              \"Benz\": [\"GLE\", \"C-class\", \"E-Class\"],\n",
    "              \"Audi\": [\"A4\", \"Q5\", \"A6\"]\n",
    "              }\n"
   ]
  },
  {
   "cell_type": "code",
   "execution_count": null,
   "metadata": {},
   "outputs": [],
   "source": []
  },
  {
   "cell_type": "code",
   "execution_count": 31,
   "metadata": {},
   "outputs": [
    {
     "data": {
      "text/plain": [
       "['GLE', 'C-class', 'E-Class']"
      ]
     },
     "execution_count": 31,
     "metadata": {},
     "output_type": "execute_result"
    }
   ],
   "source": [
    "# get the values of a car called benz\n",
    "Car_models[\"Benz\"]"
   ]
  },
  {
   "cell_type": "code",
   "execution_count": 33,
   "metadata": {},
   "outputs": [
    {
     "data": {
      "text/plain": [
       "3"
      ]
     },
     "execution_count": 33,
     "metadata": {},
     "output_type": "execute_result"
    }
   ],
   "source": [
    "# find the length of the models for each car\n",
    "len(Car_models[\"Toyota\"])"
   ]
  },
  {
   "cell_type": "code",
   "execution_count": 34,
   "metadata": {},
   "outputs": [
    {
     "data": {
      "text/plain": [
       "3"
      ]
     },
     "execution_count": 34,
     "metadata": {},
     "output_type": "execute_result"
    }
   ],
   "source": [
    "len(Car_models[\"Ford\"])"
   ]
  },
  {
   "cell_type": "code",
   "execution_count": 35,
   "metadata": {},
   "outputs": [
    {
     "data": {
      "text/plain": [
       "3"
      ]
     },
     "execution_count": 35,
     "metadata": {},
     "output_type": "execute_result"
    }
   ],
   "source": [
    "len(Car_models[\"BMW\"])"
   ]
  },
  {
   "cell_type": "code",
   "execution_count": 36,
   "metadata": {},
   "outputs": [
    {
     "data": {
      "text/plain": [
       "3"
      ]
     },
     "execution_count": 36,
     "metadata": {},
     "output_type": "execute_result"
    }
   ],
   "source": [
    "len(Car_models[\"Benz\"])"
   ]
  },
  {
   "cell_type": "code",
   "execution_count": 12,
   "metadata": {},
   "outputs": [
    {
     "data": {
      "text/plain": [
       "3"
      ]
     },
     "execution_count": 12,
     "metadata": {},
     "output_type": "execute_result"
    }
   ],
   "source": [
    "len(Car_models[\"Audi\"])"
   ]
  },
  {
   "cell_type": "code",
   "execution_count": 41,
   "metadata": {},
   "outputs": [
    {
     "data": {
      "text/plain": [
       "dict_keys(['Toyota', 'Ford', 'BMW', 'Benz', 'Audi'])"
      ]
     },
     "execution_count": 41,
     "metadata": {},
     "output_type": "execute_result"
    }
   ],
   "source": [
    "# find the keys and values in the dictionary\n",
    "Car_models.keys()"
   ]
  },
  {
   "cell_type": "code",
   "execution_count": 40,
   "metadata": {},
   "outputs": [
    {
     "data": {
      "text/plain": [
       "dict_values([['Camry', 'Honda', 'civic'], ['Mustang', 'Explore', 'Malibu'], ['x5', '3 series', '5 series'], ['GLE', 'C-class', 'E-Class'], ['A4', 'Q5', 'A6']])"
      ]
     },
     "execution_count": 40,
     "metadata": {},
     "output_type": "execute_result"
    }
   ],
   "source": [
    "Car_models.values()"
   ]
  },
  {
   "cell_type": "code",
   "execution_count": 44,
   "metadata": {},
   "outputs": [
    {
     "data": {
      "text/plain": [
       "dict_items([('Toyota', ['Camry', 'Honda', 'civic']), ('Ford', ['Mustang', 'Explore', 'Malibu']), ('BMW', ['7 series', '4 series', 'X3']), ('Benz', ['GLE', 'C-class', 'E-Class']), ('Audi', ['A4', 'Q5', 'A6'])])"
      ]
     },
     "execution_count": 44,
     "metadata": {},
     "output_type": "execute_result"
    }
   ],
   "source": [
    "Car_models.items()"
   ]
  },
  {
   "cell_type": "code",
   "execution_count": 46,
   "metadata": {},
   "outputs": [],
   "source": [
    "# change the models of one of the car to different ones\n",
    "Car_models[\"BMW\"] = [\"7 series\", \"4 series\", \"X3\"]"
   ]
  },
  {
   "cell_type": "code",
   "execution_count": 47,
   "metadata": {},
   "outputs": [
    {
     "data": {
      "text/plain": [
       "['7 series', '4 series', 'X3']"
      ]
     },
     "execution_count": 47,
     "metadata": {},
     "output_type": "execute_result"
    }
   ],
   "source": [
    "Car_models[\"BMW\"]"
   ]
  },
  {
   "cell_type": "code",
   "execution_count": 49,
   "metadata": {},
   "outputs": [],
   "source": [
    "# update the dictionary with your own car company and models you would like to create\n",
    "Car_models.update({\"Volkswagen\": [\"Golf\", \"Passat\", \"Tiguan\"]})"
   ]
  },
  {
   "cell_type": "code",
   "execution_count": 50,
   "metadata": {},
   "outputs": [
    {
     "data": {
      "text/plain": [
       "{'Toyota': ['Camry', 'Honda', 'civic'],\n",
       " 'Ford': ['Mustang', 'Explore', 'Malibu'],\n",
       " 'BMW': ['7 series', '4 series', 'X3'],\n",
       " 'Benz': ['GLE', 'C-class', 'E-Class'],\n",
       " 'Audi': ['A4', 'Q5', 'A6'],\n",
       " 'Volkswagen': ['Golf', 'Passat', 'Tiguan']}"
      ]
     },
     "execution_count": 50,
     "metadata": {},
     "output_type": "execute_result"
    }
   ],
   "source": [
    "Car_models"
   ]
  },
  {
   "cell_type": "code",
   "execution_count": 51,
   "metadata": {},
   "outputs": [],
   "source": [
    "# create a list of cars and  it should include duplicates\n",
    "cars_list = [\"lexus\", \"jeep\", \"jeep\", \"lexus\", \"Tesla\", \"Nissan\"]"
   ]
  },
  {
   "cell_type": "code",
   "execution_count": 52,
   "metadata": {},
   "outputs": [
    {
     "data": {
      "text/plain": [
       "['lexus', 'jeep', 'jeep', 'lexus', 'Tesla', 'Nissan']"
      ]
     },
     "execution_count": 52,
     "metadata": {},
     "output_type": "execute_result"
    }
   ],
   "source": [
    "cars_list"
   ]
  },
  {
   "cell_type": "code",
   "execution_count": 53,
   "metadata": {},
   "outputs": [],
   "source": [
    "# cast the list of cars to tuple\n",
    "cars_tuple = (\"lexus\", \"jeep\", \"jeep\", \"lexus\", \"Tesla\", \"Nissan\")"
   ]
  },
  {
   "cell_type": "code",
   "execution_count": 54,
   "metadata": {},
   "outputs": [
    {
     "data": {
      "text/plain": [
       "('lexus', 'jeep', 'jeep', 'lexus', 'Tesla', 'Nissan')"
      ]
     },
     "execution_count": 54,
     "metadata": {},
     "output_type": "execute_result"
    }
   ],
   "source": [
    "cars_tuple"
   ]
  },
  {
   "cell_type": "code",
   "execution_count": 55,
   "metadata": {},
   "outputs": [],
   "source": [
    "# change the list of cars to a set\n",
    "cars_set = {\"lexus\", \"jeep\", \"jeep\", \"lexus\", \"Tesla\", \"Nissan\"}"
   ]
  },
  {
   "cell_type": "code",
   "execution_count": 56,
   "metadata": {},
   "outputs": [
    {
     "data": {
      "text/plain": [
       "{'Nissan', 'Tesla', 'jeep', 'lexus'}"
      ]
     },
     "execution_count": 56,
     "metadata": {},
     "output_type": "execute_result"
    }
   ],
   "source": [
    "cars_set"
   ]
  },
  {
   "cell_type": "code",
   "execution_count": null,
   "metadata": {},
   "outputs": [],
   "source": [
    "# play around them, using various methods\n",
    "# For list"
   ]
  },
  {
   "cell_type": "code",
   "execution_count": null,
   "metadata": {},
   "outputs": [],
   "source": [
    "#For tuple"
   ]
  },
  {
   "cell_type": "code",
   "execution_count": null,
   "metadata": {},
   "outputs": [],
   "source": [
    "#For sets"
   ]
  },
  {
   "cell_type": "code",
   "execution_count": null,
   "metadata": {},
   "outputs": [],
   "source": [
    "#Homework 2\n",
    "\"\"\"\"\"\"\"\"\"\"\"Assignment: Functions and control flow I\n",
    "\n",
    "1. create a function that takes a number as an argument and raise it to the exponent of itself\n",
    "Example 5 will be 5 ** 5 (meaning 5 exponent 5) to give result 25 and 6 will be 6**6 to give 36\n",
    "\n",
    "if - elif -else statements\n",
    "2. Given a value, check if the value is greater than 10, print \"greater than 10\" or \"less than 10\"\n",
    "depending on whether the condition is met or not.\n",
    "\n",
    "\n",
    "3. You have applied for a number of jobs and have an offer.\n",
    "you want to accept or reject an offer based on condition that the salary is more than 50000\n",
    "and it is a remote location. The result for your job  offer is as follows\n",
    "\n",
    "job_offer = {\"salary\": 49000, \"location\": \"remote}\n",
    "\n",
    "write a code to determine whether to reject or accept the offer based on the following scenario\n",
    "(a) if the salary condition is met\n",
    "(b) if the location condition is met\n",
    "(c) if both of the conditions are met\n",
    "\n",
    "\n",
    "4. Create a loop that loops-over the days of the week and print the last 3 letters for each day\n",
    "\n",
    "5. Define a function that use the code of question 4 as the logic of the function (code to execute in the function)\n",
    "6. Call the function in question 5 and give it the months of the year and print the results\"\"\""
   ]
  },
  {
   "cell_type": "code",
   "execution_count": 8,
   "metadata": {},
   "outputs": [
    {
     "name": "stdout",
     "output_type": "stream",
     "text": [
      "3125\n",
      "46656\n"
     ]
    }
   ],
   "source": [
    "def raise_to_self(n):\n",
    "    return n ** n\n",
    "\n",
    "# Test the function\n",
    "print(raise_to_self(5)) \n",
    "print(raise_to_self(6))  \n"
   ]
  },
  {
   "cell_type": "code",
   "execution_count": 1,
   "metadata": {},
   "outputs": [
    {
     "name": "stdout",
     "output_type": "stream",
     "text": [
      "25\n"
     ]
    }
   ],
   "source": [
    "def multiply_by_itself(numb):\n",
    "    return numb*numb\n",
    "\n",
    "print(multiply_by_itself(5))\n"
   ]
  },
  {
   "cell_type": "code",
   "execution_count": 2,
   "metadata": {},
   "outputs": [
    {
     "name": "stdout",
     "output_type": "stream",
     "text": [
      "greater than 10\n",
      "less than 10\n",
      "equal to 10\n"
     ]
    }
   ],
   "source": [
    "def check_value(value: int) -> int: \n",
    "    if value > 10:\n",
    "        print(\"greater than 10\")\n",
    "    elif value < 10:\n",
    "        print(\"less than 10\")\n",
    "    else:\n",
    "        print(\"equal to 10\")\n",
    "\n",
    "# Test the function\n",
    "check_value(15)  # this should print \"greater than 10\"\n",
    "check_value(5)   # this should print \"less than 10\"\n",
    "check_value(10)  # and this hould print \"equal to 10\"\n"
   ]
  },
  {
   "cell_type": "code",
   "execution_count": 12,
   "metadata": {},
   "outputs": [],
   "source": [
    "def get_job_offer(job_offer: dict, location= \"remote\") -> str:\n",
    "    place = job_offer[\"location\"]\n",
    "    if place == location:\n",
    "        return \"accept\"\n",
    "    else: \n",
    "        return \"reject\""
   ]
  },
  {
   "cell_type": "code",
   "execution_count": 13,
   "metadata": {},
   "outputs": [
    {
     "name": "stdout",
     "output_type": "stream",
     "text": [
      "accept\n"
     ]
    }
   ],
   "source": [
    "job_offer = {\"salary\": 4900000, \"location\":\"remote\"}\n",
    "evaluate = get_job_offer(job_offer=job_offer, location=\"remote\")\n",
    "print(evaluate)"
   ]
  }
 ],
 "metadata": {
  "kernelspec": {
   "display_name": "Python 3",
   "language": "python",
   "name": "python3"
  },
  "language_info": {
   "codemirror_mode": {
    "name": "ipython",
    "version": 3
   },
   "file_extension": ".py",
   "mimetype": "text/x-python",
   "name": "python",
   "nbconvert_exporter": "python",
   "pygments_lexer": "ipython3",
   "version": "3.10.12"
  }
 },
 "nbformat": 4,
 "nbformat_minor": 2
}
