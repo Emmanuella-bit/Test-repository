{
 "cells": [
  {
   "cell_type": "code",
   "execution_count": null,
   "metadata": {},
   "outputs": [],
   "source": [
    "# create a dictionary of cars and their models\n",
    "# get the values of a car called benz\n",
    "# find the length of the models for each car\n",
    "# find the keys and values in the dictionary\n",
    "# change the models of one of the car to different ones\n",
    "# update the dictionary with your own car company and models you would like to create\n",
    "\n",
    "# list\n",
    "# create a list of cars and  it should include duplicates\n",
    "# cast the list of cars to tuple\n",
    "# change the list of cars to a set\n",
    "\n",
    "# play around them, using various methods such a\n"
   ]
  },
  {
   "cell_type": "code",
   "execution_count": 30,
   "metadata": {},
   "outputs": [],
   "source": [
    "#create a dictionary of cars and their models\n",
    "Car_models = {\"Toyota\": [\"Camry\", \"Honda\", \"civic\"],\n",
    "              \"Ford\": [\"Mustang\", \"Explore\", \"Malibu\"],\n",
    "              \"BMW\": [\"x5\", \"3 series\", \"5 series\"],\n",
    "              \"Benz\": [\"GLE\", \"C-class\", \"E-Class\"],\n",
    "              \"Audi\": [\"A4\", \"Q5\", \"A6\"]\n",
    "              }\n"
   ]
  },
  {
   "cell_type": "code",
   "execution_count": null,
   "metadata": {},
   "outputs": [],
   "source": []
  },
  {
   "cell_type": "code",
   "execution_count": 31,
   "metadata": {},
   "outputs": [
    {
     "data": {
      "text/plain": [
       "['GLE', 'C-class', 'E-Class']"
      ]
     },
     "execution_count": 31,
     "metadata": {},
     "output_type": "execute_result"
    }
   ],
   "source": [
    "# get the values of a car called benz\n",
    "Car_models[\"Benz\"]"
   ]
  },
  {
   "cell_type": "code",
   "execution_count": 33,
   "metadata": {},
   "outputs": [
    {
     "data": {
      "text/plain": [
       "3"
      ]
     },
     "execution_count": 33,
     "metadata": {},
     "output_type": "execute_result"
    }
   ],
   "source": [
    "# find the length of the models for each car\n",
    "len(Car_models[\"Toyota\"])"
   ]
  },
  {
   "cell_type": "code",
   "execution_count": 34,
   "metadata": {},
   "outputs": [
    {
     "data": {
      "text/plain": [
       "3"
      ]
     },
     "execution_count": 34,
     "metadata": {},
     "output_type": "execute_result"
    }
   ],
   "source": [
    "len(Car_models[\"Ford\"])"
   ]
  },
  {
   "cell_type": "code",
   "execution_count": 35,
   "metadata": {},
   "outputs": [
    {
     "data": {
      "text/plain": [
       "3"
      ]
     },
     "execution_count": 35,
     "metadata": {},
     "output_type": "execute_result"
    }
   ],
   "source": [
    "len(Car_models[\"BMW\"])"
   ]
  },
  {
   "cell_type": "code",
   "execution_count": 36,
   "metadata": {},
   "outputs": [
    {
     "data": {
      "text/plain": [
       "3"
      ]
     },
     "execution_count": 36,
     "metadata": {},
     "output_type": "execute_result"
    }
   ],
   "source": [
    "len(Car_models[\"Benz\"])"
   ]
  },
  {
   "cell_type": "code",
   "execution_count": 12,
   "metadata": {},
   "outputs": [
    {
     "data": {
      "text/plain": [
       "3"
      ]
     },
     "execution_count": 12,
     "metadata": {},
     "output_type": "execute_result"
    }
   ],
   "source": [
    "len(Car_models[\"Audi\"])"
   ]
  },
  {
   "cell_type": "code",
   "execution_count": 41,
   "metadata": {},
   "outputs": [
    {
     "data": {
      "text/plain": [
       "dict_keys(['Toyota', 'Ford', 'BMW', 'Benz', 'Audi'])"
      ]
     },
     "execution_count": 41,
     "metadata": {},
     "output_type": "execute_result"
    }
   ],
   "source": [
    "# find the keys and values in the dictionary\n",
    "Car_models.keys()"
   ]
  },
  {
   "cell_type": "code",
   "execution_count": 40,
   "metadata": {},
   "outputs": [
    {
     "data": {
      "text/plain": [
       "dict_values([['Camry', 'Honda', 'civic'], ['Mustang', 'Explore', 'Malibu'], ['x5', '3 series', '5 series'], ['GLE', 'C-class', 'E-Class'], ['A4', 'Q5', 'A6']])"
      ]
     },
     "execution_count": 40,
     "metadata": {},
     "output_type": "execute_result"
    }
   ],
   "source": [
    "Car_models.values()"
   ]
  },
  {
   "cell_type": "code",
   "execution_count": 44,
   "metadata": {},
   "outputs": [
    {
     "data": {
      "text/plain": [
       "dict_items([('Toyota', ['Camry', 'Honda', 'civic']), ('Ford', ['Mustang', 'Explore', 'Malibu']), ('BMW', ['7 series', '4 series', 'X3']), ('Benz', ['GLE', 'C-class', 'E-Class']), ('Audi', ['A4', 'Q5', 'A6'])])"
      ]
     },
     "execution_count": 44,
     "metadata": {},
     "output_type": "execute_result"
    }
   ],
   "source": [
    "Car_models.items()"
   ]
  },
  {
   "cell_type": "code",
   "execution_count": 46,
   "metadata": {},
   "outputs": [],
   "source": [
    "# change the models of one of the car to different ones\n",
    "Car_models[\"BMW\"] = [\"7 series\", \"4 series\", \"X3\"]"
   ]
  },
  {
   "cell_type": "code",
   "execution_count": 47,
   "metadata": {},
   "outputs": [
    {
     "data": {
      "text/plain": [
       "['7 series', '4 series', 'X3']"
      ]
     },
     "execution_count": 47,
     "metadata": {},
     "output_type": "execute_result"
    }
   ],
   "source": [
    "Car_models[\"BMW\"]"
   ]
  },
  {
   "cell_type": "code",
   "execution_count": 49,
   "metadata": {},
   "outputs": [],
   "source": [
    "# update the dictionary with your own car company and models you would like to create\n",
    "Car_models.update({\"Volkswagen\": [\"Golf\", \"Passat\", \"Tiguan\"]})"
   ]
  },
  {
   "cell_type": "code",
   "execution_count": 50,
   "metadata": {},
   "outputs": [
    {
     "data": {
      "text/plain": [
       "{'Toyota': ['Camry', 'Honda', 'civic'],\n",
       " 'Ford': ['Mustang', 'Explore', 'Malibu'],\n",
       " 'BMW': ['7 series', '4 series', 'X3'],\n",
       " 'Benz': ['GLE', 'C-class', 'E-Class'],\n",
       " 'Audi': ['A4', 'Q5', 'A6'],\n",
       " 'Volkswagen': ['Golf', 'Passat', 'Tiguan']}"
      ]
     },
     "execution_count": 50,
     "metadata": {},
     "output_type": "execute_result"
    }
   ],
   "source": [
    "Car_models"
   ]
  },
  {
   "cell_type": "code",
   "execution_count": 51,
   "metadata": {},
   "outputs": [],
   "source": [
    "# create a list of cars and  it should include duplicates\n",
    "cars_list = [\"lexus\", \"jeep\", \"jeep\", \"lexus\", \"Tesla\", \"Nissan\"]"
   ]
  },
  {
   "cell_type": "code",
   "execution_count": 52,
   "metadata": {},
   "outputs": [
    {
     "data": {
      "text/plain": [
       "['lexus', 'jeep', 'jeep', 'lexus', 'Tesla', 'Nissan']"
      ]
     },
     "execution_count": 52,
     "metadata": {},
     "output_type": "execute_result"
    }
   ],
   "source": [
    "cars_list"
   ]
  },
  {
   "cell_type": "code",
   "execution_count": 53,
   "metadata": {},
   "outputs": [],
   "source": [
    "# cast the list of cars to tuple\n",
    "cars_tuple = (\"lexus\", \"jeep\", \"jeep\", \"lexus\", \"Tesla\", \"Nissan\")"
   ]
  },
  {
   "cell_type": "code",
   "execution_count": 54,
   "metadata": {},
   "outputs": [
    {
     "data": {
      "text/plain": [
       "('lexus', 'jeep', 'jeep', 'lexus', 'Tesla', 'Nissan')"
      ]
     },
     "execution_count": 54,
     "metadata": {},
     "output_type": "execute_result"
    }
   ],
   "source": [
    "cars_tuple"
   ]
  },
  {
   "cell_type": "code",
   "execution_count": 55,
   "metadata": {},
   "outputs": [],
   "source": [
    "# change the list of cars to a set\n",
    "cars_set = {\"lexus\", \"jeep\", \"jeep\", \"lexus\", \"Tesla\", \"Nissan\"}"
   ]
  },
  {
   "cell_type": "code",
   "execution_count": 56,
   "metadata": {},
   "outputs": [
    {
     "data": {
      "text/plain": [
       "{'Nissan', 'Tesla', 'jeep', 'lexus'}"
      ]
     },
     "execution_count": 56,
     "metadata": {},
     "output_type": "execute_result"
    }
   ],
   "source": [
    "cars_set"
   ]
  },
  {
   "cell_type": "code",
   "execution_count": null,
   "metadata": {},
   "outputs": [],
   "source": [
    "# play around them, using various methods\n",
    "# For list"
   ]
  },
  {
   "cell_type": "code",
   "execution_count": null,
   "metadata": {},
   "outputs": [],
   "source": [
    "#For tuple"
   ]
  },
  {
   "cell_type": "code",
   "execution_count": null,
   "metadata": {},
   "outputs": [],
   "source": [
    "#For sets"
   ]
  },
  {
   "cell_type": "code",
   "execution_count": null,
   "metadata": {},
   "outputs": [],
   "source": [
    "#Homework 2\n",
    "\"\"\"\"\"\"\"\"\"\"\"Assignment: Functions and control flow I\n",
    "\n",
    "1. create a function that takes a number as an argument and raise it to the exponent of itself\n",
    "Example 5 will be 5 ** 5 (meaning 5 exponent 5) to give result 25 and 6 will be 6**6 to give 36\n",
    "\n",
    "if - elif -else statements\n",
    "2. Given a value, check if the value is greater than 10, print \"greater than 10\" or \"less than 10\"\n",
    "depending on whether the condition is met or not.\n",
    "\n",
    "\n",
    "3. You have applied for a number of jobs and have an offer.\n",
    "you want to accept or reject an offer based on condition that the salary is more than 50000\n",
    "and it is a remote location. The result for your job  offer is as follows\n",
    "\n",
    "job_offer = {\"salary\": 49000, \"location\": \"remote}\n",
    "\n",
    "write a code to determine whether to reject or accept the offer based on the following scenario\n",
    "(a) if the salary condition is met\n",
    "(b) if the location condition is met\n",
    "(c) if both of the conditions are met\n",
    "\n",
    "\n",
    "4. Create a loop that loops-over the days of the week and print the last 3 letters for each day\n",
    "\n",
    "5. Define a function that use the code of question 4 as the logic of the function (code to execute in the function)\n",
    "6. Call the function in question 5 and give it the months of the year and print the results\"\"\""
   ]
  },
  {
   "cell_type": "code",
   "execution_count": 8,
   "metadata": {},
   "outputs": [
    {
     "name": "stdout",
     "output_type": "stream",
     "text": [
      "3125\n",
      "46656\n"
     ]
    }
   ],
   "source": [
    "def raise_to_self(n):\n",
    "    return n ** n\n",
    "\n",
    "# Test the function\n",
    "print(raise_to_self(5)) \n",
    "print(raise_to_self(6))  \n"
   ]
  },
  {
   "cell_type": "code",
   "execution_count": 1,
   "metadata": {},
   "outputs": [
    {
     "name": "stdout",
     "output_type": "stream",
     "text": [
      "25\n"
     ]
    }
   ],
   "source": [
    "def multiply_by_itself(numb):\n",
    "    return numb*numb\n",
    "\n",
    "print(multiply_by_itself(5))\n"
   ]
  },
  {
   "cell_type": "code",
   "execution_count": 2,
   "metadata": {},
   "outputs": [
    {
     "name": "stdout",
     "output_type": "stream",
     "text": [
      "greater than 10\n",
      "less than 10\n",
      "equal to 10\n"
     ]
    }
   ],
   "source": [
    "def check_value(value: int) -> int: \n",
    "    if value > 10:\n",
    "        print(\"greater than 10\")\n",
    "    elif value < 10:\n",
    "        print(\"less than 10\")\n",
    "    else:\n",
    "        print(\"equal to 10\")\n",
    "\n",
    "# Test the function\n",
    "check_value(15)  # this should print \"greater than 10\"\n",
    "check_value(5)   # this should print \"less than 10\"\n",
    "check_value(10)  # and this hould print \"equal to 10\"\n"
   ]
  },
  {
   "cell_type": "code",
   "execution_count": 12,
   "metadata": {},
   "outputs": [],
   "source": [
    "def get_job_offer(job_offer: dict, location= \"remote\") -> str:\n",
    "    place = job_offer[\"location\"]\n",
    "    if place == location:\n",
    "        return \"accept\"\n",
    "    else: \n",
    "        return \"reject\""
   ]
  },
  {
   "cell_type": "code",
   "execution_count": 13,
   "metadata": {},
   "outputs": [
    {
     "name": "stdout",
     "output_type": "stream",
     "text": [
      "accept\n"
     ]
    }
   ],
   "source": [
    "job_offer = {\"salary\": 4900000, \"location\":\"remote\"}\n",
    "evaluate = get_job_offer(job_offer=job_offer, location=\"remote\")\n",
    "print(evaluate)"
   ]
  },
  {
   "cell_type": "code",
   "execution_count": 14,
   "metadata": {},
   "outputs": [
    {
     "name": "stdout",
     "output_type": "stream",
     "text": [
      "day\n",
      "day\n",
      "day\n",
      "day\n",
      "day\n",
      "day\n",
      "day\n"
     ]
    }
   ],
   "source": [
    "days_of_week = [\"Monday\", \"Tuesday\", \"Wednesday\", \"Thursday\", \"Friday\", \"Saturday\", \"Sunday\"]\n",
    "\n",
    "for day in days_of_week:\n",
    "    print(day[-3:])\n"
   ]
  },
  {
   "cell_type": "code",
   "execution_count": 16,
   "metadata": {},
   "outputs": [
    {
     "name": "stdout",
     "output_type": "stream",
     "text": [
      "Mon\n",
      "Tue\n",
      "Wed\n",
      "Thu\n",
      "Fri\n",
      "Sat\n",
      "Sun\n"
     ]
    }
   ],
   "source": [
    "days_of_week = [\"Monday\", \"Tuesday\", \"Wednesday\", \"Thursday\", \"Friday\", \"Saturday\", \"Sunday\"]\n",
    "\n",
    "for day in days_of_week:\n",
    "    print(day[:3])\n"
   ]
  },
  {
   "cell_type": "code",
   "execution_count": 46,
   "metadata": {},
   "outputs": [],
   "source": [
    "def print_last_three_letters(days_of_week: str) -> str:\n",
    "    for day in days_of_week:\n",
    "        print(day[-3:])\n",
    "        print(type(day))\n"
   ]
  },
  {
   "cell_type": "code",
   "execution_count": 47,
   "metadata": {},
   "outputs": [
    {
     "name": "stdout",
     "output_type": "stream",
     "text": [
      "day\n",
      "<class 'str'>\n",
      "day\n",
      "<class 'str'>\n",
      "day\n",
      "<class 'str'>\n",
      "day\n",
      "<class 'str'>\n",
      "day\n",
      "<class 'str'>\n",
      "day\n",
      "<class 'str'>\n",
      "day\n",
      "<class 'str'>\n"
     ]
    }
   ],
   "source": [
    "print_last_three_letters(days_of_week)"
   ]
  },
  {
   "cell_type": "code",
   "execution_count": 40,
   "metadata": {},
   "outputs": [],
   "source": [
    "def print_first_three_letters(days_of_week: str) -> str:\n",
    "    for day in days_of_week:\n",
    "        print(day[:3])\n"
   ]
  },
  {
   "cell_type": "code",
   "execution_count": 43,
   "metadata": {},
   "outputs": [
    {
     "name": "stdout",
     "output_type": "stream",
     "text": [
      "Mon\n",
      "Tue\n",
      "Wed\n",
      "Thu\n",
      "Fri\n",
      "Sat\n",
      "Sun\n"
     ]
    }
   ],
   "source": [
    "print_first_three_letters(days_of_week)"
   ]
  },
  {
   "cell_type": "code",
   "execution_count": 35,
   "metadata": {},
   "outputs": [],
   "source": [
    "months_of_year = [\"January\", \"February\", \"March\", \"April\", \"May\", \"June\", \"July\", \"August\", \"September\", \"October\", \"November\", \"December\"]\n",
    "  \n",
    "def print_last_three_letters_of_month(months_of_year: str) -> str:  \n",
    "    for month in months_of_year:\n",
    "      print(month[-3:])"
   ]
  },
  {
   "cell_type": "code",
   "execution_count": 44,
   "metadata": {},
   "outputs": [
    {
     "name": "stdout",
     "output_type": "stream",
     "text": [
      "ary\n",
      "ary\n",
      "rch\n",
      "ril\n",
      "May\n",
      "une\n",
      "uly\n",
      "ust\n",
      "ber\n",
      "ber\n",
      "ber\n",
      "ber\n"
     ]
    }
   ],
   "source": [
    "\n",
    "print_last_three_letters_of_month(months_of_year)"
   ]
  },
  {
   "cell_type": "code",
   "execution_count": null,
   "metadata": {},
   "outputs": [],
   "source": [
    "\"\"\"\"\"\"\"\"\"\"1. Given a list of numbers write 2 different function with the first one returning the maximum value and the second returns the minimum\n",
    "Eg. example_list = [2,8,4,1,0,5], the function for maximum should return 8 and that of the minimum should return 0 in this case\n",
    "2. write a function that takes a string parameter and reverse it.\n",
    "Eg, given the value \"name\" it return the reverse as \"eman\", \"girl\" -> \"lrig\", \"boy\"->\"yob\"\"\"\""
   ]
  },
  {
   "cell_type": "code",
   "execution_count": 53,
   "metadata": {},
   "outputs": [],
   "source": [
    "example_list =  [2,8,4,1,0,5]"
   ]
  },
  {
   "cell_type": "code",
   "execution_count": 51,
   "metadata": {},
   "outputs": [],
   "source": [
    "from typing import Union\n",
    "def get_minimum(values_to_search: list) -> Union[int, float]:\n",
    "    initial_min_value = 0\n",
    "    for num in values_to_search:\n",
    "        if num < initial_min_value:\n",
    "            initial_min_value = num\n",
    "    return initial_min_value"
   ]
  },
  {
   "cell_type": "code",
   "execution_count": 54,
   "metadata": {},
   "outputs": [
    {
     "data": {
      "text/plain": [
       "0"
      ]
     },
     "execution_count": 54,
     "metadata": {},
     "output_type": "execute_result"
    }
   ],
   "source": [
    "get_minimum(values_to_search=example_list)"
   ]
  },
  {
   "cell_type": "code",
   "execution_count": 56,
   "metadata": {},
   "outputs": [
    {
     "name": "stdout",
     "output_type": "stream",
     "text": [
      "Requirement already satisfied: pandas in /usr/local/lib/python3.10/dist-packages (2.2.2)\n",
      "Requirement already satisfied: numpy>=1.22.4 in /usr/local/lib/python3.10/dist-packages (from pandas) (2.0.1)\n",
      "Requirement already satisfied: pytz>=2020.1 in /usr/local/lib/python3.10/dist-packages (from pandas) (2024.1)\n",
      "Requirement already satisfied: python-dateutil>=2.8.2 in /root/.local/lib/python3.10/site-packages (from pandas) (2.9.0.post0)\n",
      "Requirement already satisfied: tzdata>=2022.7 in /usr/local/lib/python3.10/dist-packages (from pandas) (2024.1)\n",
      "Requirement already satisfied: six>=1.5 in /usr/lib/python3/dist-packages (from python-dateutil>=2.8.2->pandas) (1.16.0)\n",
      "\u001b[33mWARNING: Running pip as the 'root' user can result in broken permissions and conflicting behaviour with the system package manager. It is recommended to use a virtual environment instead: https://pip.pypa.io/warnings/venv\u001b[0m\u001b[33m\n",
      "\u001b[0m"
     ]
    }
   ],
   "source": [
    "!pip install pandas"
   ]
  },
  {
   "cell_type": "code",
   "execution_count": null,
   "metadata": {},
   "outputs": [],
   "source": []
  },
  {
   "cell_type": "code",
   "execution_count": null,
   "metadata": {},
   "outputs": [],
   "source": [
    "\"\"\"\"create a dictionary of your own data and convert it to a dataframe\n",
    "do some basic exploratory analysis on the data\"\"\""
   ]
  },
  {
   "cell_type": "code",
   "execution_count": 59,
   "metadata": {},
   "outputs": [],
   "source": [
    "import pandas as pd\n",
    "class_data = {\"Housing_type\": [\"Single_room\", \"apartment\",\"studio\", \"Bangalow\"],\n",
    "              \"Number_of_rooms\": [\"1\", \"2\", \"1\", \"3\"],\n",
    "              \"Housing_condition\": [\"good_condition\", \"fully_furnished\", \"small\", \"poor_condition\"],\n",
    "              \"Location\": [\"Augsburg\", \"Landshut\", \"München\", \"Passau\"],\n",
    "              }"
   ]
  },
  {
   "cell_type": "code",
   "execution_count": 60,
   "metadata": {},
   "outputs": [
    {
     "data": {
      "text/html": [
       "<div>\n",
       "<style scoped>\n",
       "    .dataframe tbody tr th:only-of-type {\n",
       "        vertical-align: middle;\n",
       "    }\n",
       "\n",
       "    .dataframe tbody tr th {\n",
       "        vertical-align: top;\n",
       "    }\n",
       "\n",
       "    .dataframe thead th {\n",
       "        text-align: right;\n",
       "    }\n",
       "</style>\n",
       "<table border=\"1\" class=\"dataframe\">\n",
       "  <thead>\n",
       "    <tr style=\"text-align: right;\">\n",
       "      <th></th>\n",
       "      <th>Housing_type</th>\n",
       "      <th>Number_of_rooms</th>\n",
       "      <th>Housing_condition</th>\n",
       "      <th>Location</th>\n",
       "    </tr>\n",
       "  </thead>\n",
       "  <tbody>\n",
       "    <tr>\n",
       "      <th>0</th>\n",
       "      <td>Single_room</td>\n",
       "      <td>1</td>\n",
       "      <td>good_condition</td>\n",
       "      <td>Augsburg</td>\n",
       "    </tr>\n",
       "    <tr>\n",
       "      <th>1</th>\n",
       "      <td>apartment</td>\n",
       "      <td>2</td>\n",
       "      <td>fully_furnished</td>\n",
       "      <td>Landshut</td>\n",
       "    </tr>\n",
       "    <tr>\n",
       "      <th>2</th>\n",
       "      <td>studio</td>\n",
       "      <td>1</td>\n",
       "      <td>small</td>\n",
       "      <td>München</td>\n",
       "    </tr>\n",
       "    <tr>\n",
       "      <th>3</th>\n",
       "      <td>Bangalow</td>\n",
       "      <td>3</td>\n",
       "      <td>poor_condition</td>\n",
       "      <td>Passau</td>\n",
       "    </tr>\n",
       "  </tbody>\n",
       "</table>\n",
       "</div>"
      ],
      "text/plain": [
       "  Housing_type Number_of_rooms Housing_condition  Location\n",
       "0  Single_room               1    good_condition  Augsburg\n",
       "1    apartment               2   fully_furnished  Landshut\n",
       "2       studio               1             small   München\n",
       "3     Bangalow               3    poor_condition    Passau"
      ]
     },
     "execution_count": 60,
     "metadata": {},
     "output_type": "execute_result"
    }
   ],
   "source": [
    "pd.DataFrame(class_data) "
   ]
  },
  {
   "cell_type": "code",
   "execution_count": null,
   "metadata": {},
   "outputs": [],
   "source": [
    "# NEW Homework\n",
    "#Import the data and show the first and last 10 data samples\n",
    "# select the first and last data columns\n",
    "# Select 100th data sample to 200th data sample\n",
    "# Perform basic statistics on the result of 3"
   ]
  },
  {
   "cell_type": "code",
   "execution_count": 1,
   "metadata": {},
   "outputs": [],
   "source": [
    "#Import pandas\n",
    "import pandas as pd"
   ]
  },
  {
   "cell_type": "code",
   "execution_count": 7,
   "metadata": {},
   "outputs": [],
   "source": [
    "datapath = \"/root/ds_tutorial/Test-repository/WhatsgoodlyData-6.csv\"\n",
    "\n",
    "data = pd.read_csv(datapath)"
   ]
  },
  {
   "cell_type": "code",
   "execution_count": 4,
   "metadata": {},
   "outputs": [
    {
     "data": {
      "text/html": [
       "<div>\n",
       "<style scoped>\n",
       "    .dataframe tbody tr th:only-of-type {\n",
       "        vertical-align: middle;\n",
       "    }\n",
       "\n",
       "    .dataframe tbody tr th {\n",
       "        vertical-align: top;\n",
       "    }\n",
       "\n",
       "    .dataframe thead th {\n",
       "        text-align: right;\n",
       "    }\n",
       "</style>\n",
       "<table border=\"1\" class=\"dataframe\">\n",
       "  <thead>\n",
       "    <tr style=\"text-align: right;\">\n",
       "      <th></th>\n",
       "      <th>Question</th>\n",
       "      <th>Segment Type</th>\n",
       "      <th>Segment Description</th>\n",
       "      <th>Answer</th>\n",
       "      <th>Count</th>\n",
       "      <th>Percentage</th>\n",
       "    </tr>\n",
       "  </thead>\n",
       "  <tbody>\n",
       "    <tr>\n",
       "      <th>0</th>\n",
       "      <td>What social platform has influenced your onlin...</td>\n",
       "      <td>Mobile</td>\n",
       "      <td>Global results</td>\n",
       "      <td>Facebook</td>\n",
       "      <td>548</td>\n",
       "      <td>0.205</td>\n",
       "    </tr>\n",
       "    <tr>\n",
       "      <th>1</th>\n",
       "      <td>What social platform has influenced your onlin...</td>\n",
       "      <td>Mobile</td>\n",
       "      <td>Global results</td>\n",
       "      <td>Instagram</td>\n",
       "      <td>916</td>\n",
       "      <td>0.342</td>\n",
       "    </tr>\n",
       "    <tr>\n",
       "      <th>2</th>\n",
       "      <td>What social platform has influenced your onlin...</td>\n",
       "      <td>Mobile</td>\n",
       "      <td>Global results</td>\n",
       "      <td>Snapchat</td>\n",
       "      <td>86</td>\n",
       "      <td>0.032</td>\n",
       "    </tr>\n",
       "    <tr>\n",
       "      <th>3</th>\n",
       "      <td>What social platform has influenced your onlin...</td>\n",
       "      <td>Mobile</td>\n",
       "      <td>Global results</td>\n",
       "      <td>Twitter</td>\n",
       "      <td>179</td>\n",
       "      <td>0.067</td>\n",
       "    </tr>\n",
       "    <tr>\n",
       "      <th>4</th>\n",
       "      <td>What social platform has influenced your onlin...</td>\n",
       "      <td>Mobile</td>\n",
       "      <td>Global results</td>\n",
       "      <td>NaN</td>\n",
       "      <td>947</td>\n",
       "      <td>0.354</td>\n",
       "    </tr>\n",
       "    <tr>\n",
       "      <th>...</th>\n",
       "      <td>...</td>\n",
       "      <td>...</td>\n",
       "      <td>...</td>\n",
       "      <td>...</td>\n",
       "      <td>...</td>\n",
       "      <td>...</td>\n",
       "    </tr>\n",
       "    <tr>\n",
       "      <th>1445</th>\n",
       "      <td>What social platform has influenced your onlin...</td>\n",
       "      <td>Custom</td>\n",
       "      <td>Sexual orientation? Straight</td>\n",
       "      <td>Facebook</td>\n",
       "      <td>215</td>\n",
       "      <td>0.180</td>\n",
       "    </tr>\n",
       "    <tr>\n",
       "      <th>1446</th>\n",
       "      <td>What social platform has influenced your onlin...</td>\n",
       "      <td>Custom</td>\n",
       "      <td>Sexual orientation? Straight</td>\n",
       "      <td>Instagram</td>\n",
       "      <td>354</td>\n",
       "      <td>0.297</td>\n",
       "    </tr>\n",
       "    <tr>\n",
       "      <th>1447</th>\n",
       "      <td>What social platform has influenced your onlin...</td>\n",
       "      <td>Custom</td>\n",
       "      <td>Sexual orientation? Straight</td>\n",
       "      <td>Snapchat</td>\n",
       "      <td>44</td>\n",
       "      <td>0.037</td>\n",
       "    </tr>\n",
       "    <tr>\n",
       "      <th>1448</th>\n",
       "      <td>What social platform has influenced your onlin...</td>\n",
       "      <td>Custom</td>\n",
       "      <td>Sexual orientation? Straight</td>\n",
       "      <td>Twitter</td>\n",
       "      <td>88</td>\n",
       "      <td>0.074</td>\n",
       "    </tr>\n",
       "    <tr>\n",
       "      <th>1449</th>\n",
       "      <td>What social platform has influenced your onlin...</td>\n",
       "      <td>Custom</td>\n",
       "      <td>Sexual orientation? Straight</td>\n",
       "      <td>NaN</td>\n",
       "      <td>492</td>\n",
       "      <td>0.412</td>\n",
       "    </tr>\n",
       "  </tbody>\n",
       "</table>\n",
       "<p>1450 rows × 6 columns</p>\n",
       "</div>"
      ],
      "text/plain": [
       "                                               Question Segment Type  \\\n",
       "0     What social platform has influenced your onlin...       Mobile   \n",
       "1     What social platform has influenced your onlin...       Mobile   \n",
       "2     What social platform has influenced your onlin...       Mobile   \n",
       "3     What social platform has influenced your onlin...       Mobile   \n",
       "4     What social platform has influenced your onlin...       Mobile   \n",
       "...                                                 ...          ...   \n",
       "1445  What social platform has influenced your onlin...       Custom   \n",
       "1446  What social platform has influenced your onlin...       Custom   \n",
       "1447  What social platform has influenced your onlin...       Custom   \n",
       "1448  What social platform has influenced your onlin...       Custom   \n",
       "1449  What social platform has influenced your onlin...       Custom   \n",
       "\n",
       "               Segment Description     Answer  Count  Percentage  \n",
       "0                   Global results   Facebook    548       0.205  \n",
       "1                   Global results  Instagram    916       0.342  \n",
       "2                   Global results   Snapchat     86       0.032  \n",
       "3                   Global results    Twitter    179       0.067  \n",
       "4                   Global results        NaN    947       0.354  \n",
       "...                            ...        ...    ...         ...  \n",
       "1445  Sexual orientation? Straight   Facebook    215       0.180  \n",
       "1446  Sexual orientation? Straight  Instagram    354       0.297  \n",
       "1447  Sexual orientation? Straight   Snapchat     44       0.037  \n",
       "1448  Sexual orientation? Straight    Twitter     88       0.074  \n",
       "1449  Sexual orientation? Straight        NaN    492       0.412  \n",
       "\n",
       "[1450 rows x 6 columns]"
      ]
     },
     "execution_count": 4,
     "metadata": {},
     "output_type": "execute_result"
    }
   ],
   "source": [
    "data"
   ]
  },
  {
   "cell_type": "code",
   "execution_count": 5,
   "metadata": {},
   "outputs": [
    {
     "data": {
      "text/html": [
       "<div>\n",
       "<style scoped>\n",
       "    .dataframe tbody tr th:only-of-type {\n",
       "        vertical-align: middle;\n",
       "    }\n",
       "\n",
       "    .dataframe tbody tr th {\n",
       "        vertical-align: top;\n",
       "    }\n",
       "\n",
       "    .dataframe thead th {\n",
       "        text-align: right;\n",
       "    }\n",
       "</style>\n",
       "<table border=\"1\" class=\"dataframe\">\n",
       "  <thead>\n",
       "    <tr style=\"text-align: right;\">\n",
       "      <th></th>\n",
       "      <th>Question</th>\n",
       "      <th>Segment Type</th>\n",
       "      <th>Segment Description</th>\n",
       "      <th>Answer</th>\n",
       "      <th>Count</th>\n",
       "      <th>Percentage</th>\n",
       "    </tr>\n",
       "  </thead>\n",
       "  <tbody>\n",
       "    <tr>\n",
       "      <th>0</th>\n",
       "      <td>What social platform has influenced your onlin...</td>\n",
       "      <td>Mobile</td>\n",
       "      <td>Global results</td>\n",
       "      <td>Facebook</td>\n",
       "      <td>548</td>\n",
       "      <td>0.205</td>\n",
       "    </tr>\n",
       "    <tr>\n",
       "      <th>1</th>\n",
       "      <td>What social platform has influenced your onlin...</td>\n",
       "      <td>Mobile</td>\n",
       "      <td>Global results</td>\n",
       "      <td>Instagram</td>\n",
       "      <td>916</td>\n",
       "      <td>0.342</td>\n",
       "    </tr>\n",
       "    <tr>\n",
       "      <th>2</th>\n",
       "      <td>What social platform has influenced your onlin...</td>\n",
       "      <td>Mobile</td>\n",
       "      <td>Global results</td>\n",
       "      <td>Snapchat</td>\n",
       "      <td>86</td>\n",
       "      <td>0.032</td>\n",
       "    </tr>\n",
       "    <tr>\n",
       "      <th>3</th>\n",
       "      <td>What social platform has influenced your onlin...</td>\n",
       "      <td>Mobile</td>\n",
       "      <td>Global results</td>\n",
       "      <td>Twitter</td>\n",
       "      <td>179</td>\n",
       "      <td>0.067</td>\n",
       "    </tr>\n",
       "    <tr>\n",
       "      <th>4</th>\n",
       "      <td>What social platform has influenced your onlin...</td>\n",
       "      <td>Mobile</td>\n",
       "      <td>Global results</td>\n",
       "      <td>NaN</td>\n",
       "      <td>947</td>\n",
       "      <td>0.354</td>\n",
       "    </tr>\n",
       "    <tr>\n",
       "      <th>5</th>\n",
       "      <td>What social platform has influenced your onlin...</td>\n",
       "      <td>Web</td>\n",
       "      <td>Web</td>\n",
       "      <td>Facebook</td>\n",
       "      <td>0</td>\n",
       "      <td>0.000</td>\n",
       "    </tr>\n",
       "    <tr>\n",
       "      <th>6</th>\n",
       "      <td>What social platform has influenced your onlin...</td>\n",
       "      <td>Web</td>\n",
       "      <td>Web</td>\n",
       "      <td>Instagram</td>\n",
       "      <td>0</td>\n",
       "      <td>0.000</td>\n",
       "    </tr>\n",
       "    <tr>\n",
       "      <th>7</th>\n",
       "      <td>What social platform has influenced your onlin...</td>\n",
       "      <td>Web</td>\n",
       "      <td>Web</td>\n",
       "      <td>Snapchat</td>\n",
       "      <td>0</td>\n",
       "      <td>0.000</td>\n",
       "    </tr>\n",
       "    <tr>\n",
       "      <th>8</th>\n",
       "      <td>What social platform has influenced your onlin...</td>\n",
       "      <td>Web</td>\n",
       "      <td>Web</td>\n",
       "      <td>Twitter</td>\n",
       "      <td>0</td>\n",
       "      <td>0.000</td>\n",
       "    </tr>\n",
       "    <tr>\n",
       "      <th>9</th>\n",
       "      <td>What social platform has influenced your onlin...</td>\n",
       "      <td>Web</td>\n",
       "      <td>Web</td>\n",
       "      <td>NaN</td>\n",
       "      <td>2</td>\n",
       "      <td>1.000</td>\n",
       "    </tr>\n",
       "  </tbody>\n",
       "</table>\n",
       "</div>"
      ],
      "text/plain": [
       "                                            Question Segment Type  \\\n",
       "0  What social platform has influenced your onlin...       Mobile   \n",
       "1  What social platform has influenced your onlin...       Mobile   \n",
       "2  What social platform has influenced your onlin...       Mobile   \n",
       "3  What social platform has influenced your onlin...       Mobile   \n",
       "4  What social platform has influenced your onlin...       Mobile   \n",
       "5  What social platform has influenced your onlin...          Web   \n",
       "6  What social platform has influenced your onlin...          Web   \n",
       "7  What social platform has influenced your onlin...          Web   \n",
       "8  What social platform has influenced your onlin...          Web   \n",
       "9  What social platform has influenced your onlin...          Web   \n",
       "\n",
       "  Segment Description     Answer  Count  Percentage  \n",
       "0      Global results   Facebook    548       0.205  \n",
       "1      Global results  Instagram    916       0.342  \n",
       "2      Global results   Snapchat     86       0.032  \n",
       "3      Global results    Twitter    179       0.067  \n",
       "4      Global results        NaN    947       0.354  \n",
       "5                 Web   Facebook      0       0.000  \n",
       "6                 Web  Instagram      0       0.000  \n",
       "7                 Web   Snapchat      0       0.000  \n",
       "8                 Web    Twitter      0       0.000  \n",
       "9                 Web        NaN      2       1.000  "
      ]
     },
     "execution_count": 5,
     "metadata": {},
     "output_type": "execute_result"
    }
   ],
   "source": [
    "#show the first 10 data samples\n",
    "data.head(10)"
   ]
  },
  {
   "cell_type": "code",
   "execution_count": 6,
   "metadata": {},
   "outputs": [
    {
     "data": {
      "text/html": [
       "<div>\n",
       "<style scoped>\n",
       "    .dataframe tbody tr th:only-of-type {\n",
       "        vertical-align: middle;\n",
       "    }\n",
       "\n",
       "    .dataframe tbody tr th {\n",
       "        vertical-align: top;\n",
       "    }\n",
       "\n",
       "    .dataframe thead th {\n",
       "        text-align: right;\n",
       "    }\n",
       "</style>\n",
       "<table border=\"1\" class=\"dataframe\">\n",
       "  <thead>\n",
       "    <tr style=\"text-align: right;\">\n",
       "      <th></th>\n",
       "      <th>Question</th>\n",
       "      <th>Segment Type</th>\n",
       "      <th>Segment Description</th>\n",
       "      <th>Answer</th>\n",
       "      <th>Count</th>\n",
       "      <th>Percentage</th>\n",
       "    </tr>\n",
       "  </thead>\n",
       "  <tbody>\n",
       "    <tr>\n",
       "      <th>1440</th>\n",
       "      <td>What social platform has influenced your onlin...</td>\n",
       "      <td>Custom</td>\n",
       "      <td>closely identify as? White</td>\n",
       "      <td>Facebook</td>\n",
       "      <td>352</td>\n",
       "      <td>0.224</td>\n",
       "    </tr>\n",
       "    <tr>\n",
       "      <th>1441</th>\n",
       "      <td>What social platform has influenced your onlin...</td>\n",
       "      <td>Custom</td>\n",
       "      <td>closely identify as? White</td>\n",
       "      <td>Instagram</td>\n",
       "      <td>498</td>\n",
       "      <td>0.317</td>\n",
       "    </tr>\n",
       "    <tr>\n",
       "      <th>1442</th>\n",
       "      <td>What social platform has influenced your onlin...</td>\n",
       "      <td>Custom</td>\n",
       "      <td>closely identify as? White</td>\n",
       "      <td>Snapchat</td>\n",
       "      <td>47</td>\n",
       "      <td>0.030</td>\n",
       "    </tr>\n",
       "    <tr>\n",
       "      <th>1443</th>\n",
       "      <td>What social platform has influenced your onlin...</td>\n",
       "      <td>Custom</td>\n",
       "      <td>closely identify as? White</td>\n",
       "      <td>Twitter</td>\n",
       "      <td>102</td>\n",
       "      <td>0.065</td>\n",
       "    </tr>\n",
       "    <tr>\n",
       "      <th>1444</th>\n",
       "      <td>What social platform has influenced your onlin...</td>\n",
       "      <td>Custom</td>\n",
       "      <td>closely identify as? White</td>\n",
       "      <td>NaN</td>\n",
       "      <td>573</td>\n",
       "      <td>0.365</td>\n",
       "    </tr>\n",
       "    <tr>\n",
       "      <th>1445</th>\n",
       "      <td>What social platform has influenced your onlin...</td>\n",
       "      <td>Custom</td>\n",
       "      <td>Sexual orientation? Straight</td>\n",
       "      <td>Facebook</td>\n",
       "      <td>215</td>\n",
       "      <td>0.180</td>\n",
       "    </tr>\n",
       "    <tr>\n",
       "      <th>1446</th>\n",
       "      <td>What social platform has influenced your onlin...</td>\n",
       "      <td>Custom</td>\n",
       "      <td>Sexual orientation? Straight</td>\n",
       "      <td>Instagram</td>\n",
       "      <td>354</td>\n",
       "      <td>0.297</td>\n",
       "    </tr>\n",
       "    <tr>\n",
       "      <th>1447</th>\n",
       "      <td>What social platform has influenced your onlin...</td>\n",
       "      <td>Custom</td>\n",
       "      <td>Sexual orientation? Straight</td>\n",
       "      <td>Snapchat</td>\n",
       "      <td>44</td>\n",
       "      <td>0.037</td>\n",
       "    </tr>\n",
       "    <tr>\n",
       "      <th>1448</th>\n",
       "      <td>What social platform has influenced your onlin...</td>\n",
       "      <td>Custom</td>\n",
       "      <td>Sexual orientation? Straight</td>\n",
       "      <td>Twitter</td>\n",
       "      <td>88</td>\n",
       "      <td>0.074</td>\n",
       "    </tr>\n",
       "    <tr>\n",
       "      <th>1449</th>\n",
       "      <td>What social platform has influenced your onlin...</td>\n",
       "      <td>Custom</td>\n",
       "      <td>Sexual orientation? Straight</td>\n",
       "      <td>NaN</td>\n",
       "      <td>492</td>\n",
       "      <td>0.412</td>\n",
       "    </tr>\n",
       "  </tbody>\n",
       "</table>\n",
       "</div>"
      ],
      "text/plain": [
       "                                               Question Segment Type  \\\n",
       "1440  What social platform has influenced your onlin...       Custom   \n",
       "1441  What social platform has influenced your onlin...       Custom   \n",
       "1442  What social platform has influenced your onlin...       Custom   \n",
       "1443  What social platform has influenced your onlin...       Custom   \n",
       "1444  What social platform has influenced your onlin...       Custom   \n",
       "1445  What social platform has influenced your onlin...       Custom   \n",
       "1446  What social platform has influenced your onlin...       Custom   \n",
       "1447  What social platform has influenced your onlin...       Custom   \n",
       "1448  What social platform has influenced your onlin...       Custom   \n",
       "1449  What social platform has influenced your onlin...       Custom   \n",
       "\n",
       "               Segment Description     Answer  Count  Percentage  \n",
       "1440    closely identify as? White   Facebook    352       0.224  \n",
       "1441    closely identify as? White  Instagram    498       0.317  \n",
       "1442    closely identify as? White   Snapchat     47       0.030  \n",
       "1443    closely identify as? White    Twitter    102       0.065  \n",
       "1444    closely identify as? White        NaN    573       0.365  \n",
       "1445  Sexual orientation? Straight   Facebook    215       0.180  \n",
       "1446  Sexual orientation? Straight  Instagram    354       0.297  \n",
       "1447  Sexual orientation? Straight   Snapchat     44       0.037  \n",
       "1448  Sexual orientation? Straight    Twitter     88       0.074  \n",
       "1449  Sexual orientation? Straight        NaN    492       0.412  "
      ]
     },
     "execution_count": 6,
     "metadata": {},
     "output_type": "execute_result"
    }
   ],
   "source": [
    "#show the last 10 data samples\n",
    "data.tail(10)"
   ]
  },
  {
   "cell_type": "code",
   "execution_count": 9,
   "metadata": {},
   "outputs": [
    {
     "data": {
      "text/plain": [
       "0       What social platform has influenced your onlin...\n",
       "1       What social platform has influenced your onlin...\n",
       "2       What social platform has influenced your onlin...\n",
       "3       What social platform has influenced your onlin...\n",
       "4       What social platform has influenced your onlin...\n",
       "                              ...                        \n",
       "1445    What social platform has influenced your onlin...\n",
       "1446    What social platform has influenced your onlin...\n",
       "1447    What social platform has influenced your onlin...\n",
       "1448    What social platform has influenced your onlin...\n",
       "1449    What social platform has influenced your onlin...\n",
       "Name: Question, Length: 1450, dtype: object"
      ]
     },
     "execution_count": 9,
     "metadata": {},
     "output_type": "execute_result"
    }
   ],
   "source": [
    " #select the first data columns\n",
    "\n",
    "data.iloc[:, 0]"
   ]
  },
  {
   "cell_type": "code",
   "execution_count": 25,
   "metadata": {},
   "outputs": [
    {
     "data": {
      "text/html": [
       "<div>\n",
       "<style scoped>\n",
       "    .dataframe tbody tr th:only-of-type {\n",
       "        vertical-align: middle;\n",
       "    }\n",
       "\n",
       "    .dataframe tbody tr th {\n",
       "        vertical-align: top;\n",
       "    }\n",
       "\n",
       "    .dataframe thead th {\n",
       "        text-align: right;\n",
       "    }\n",
       "</style>\n",
       "<table border=\"1\" class=\"dataframe\">\n",
       "  <thead>\n",
       "    <tr style=\"text-align: right;\">\n",
       "      <th></th>\n",
       "      <th>Question</th>\n",
       "    </tr>\n",
       "  </thead>\n",
       "  <tbody>\n",
       "    <tr>\n",
       "      <th>0</th>\n",
       "      <td>What social platform has influenced your onlin...</td>\n",
       "    </tr>\n",
       "    <tr>\n",
       "      <th>1</th>\n",
       "      <td>What social platform has influenced your onlin...</td>\n",
       "    </tr>\n",
       "    <tr>\n",
       "      <th>2</th>\n",
       "      <td>What social platform has influenced your onlin...</td>\n",
       "    </tr>\n",
       "    <tr>\n",
       "      <th>3</th>\n",
       "      <td>What social platform has influenced your onlin...</td>\n",
       "    </tr>\n",
       "    <tr>\n",
       "      <th>4</th>\n",
       "      <td>What social platform has influenced your onlin...</td>\n",
       "    </tr>\n",
       "    <tr>\n",
       "      <th>...</th>\n",
       "      <td>...</td>\n",
       "    </tr>\n",
       "    <tr>\n",
       "      <th>1445</th>\n",
       "      <td>What social platform has influenced your onlin...</td>\n",
       "    </tr>\n",
       "    <tr>\n",
       "      <th>1446</th>\n",
       "      <td>What social platform has influenced your onlin...</td>\n",
       "    </tr>\n",
       "    <tr>\n",
       "      <th>1447</th>\n",
       "      <td>What social platform has influenced your onlin...</td>\n",
       "    </tr>\n",
       "    <tr>\n",
       "      <th>1448</th>\n",
       "      <td>What social platform has influenced your onlin...</td>\n",
       "    </tr>\n",
       "    <tr>\n",
       "      <th>1449</th>\n",
       "      <td>What social platform has influenced your onlin...</td>\n",
       "    </tr>\n",
       "  </tbody>\n",
       "</table>\n",
       "<p>1450 rows × 1 columns</p>\n",
       "</div>"
      ],
      "text/plain": [
       "                                               Question\n",
       "0     What social platform has influenced your onlin...\n",
       "1     What social platform has influenced your onlin...\n",
       "2     What social platform has influenced your onlin...\n",
       "3     What social platform has influenced your onlin...\n",
       "4     What social platform has influenced your onlin...\n",
       "...                                                 ...\n",
       "1445  What social platform has influenced your onlin...\n",
       "1446  What social platform has influenced your onlin...\n",
       "1447  What social platform has influenced your onlin...\n",
       "1448  What social platform has influenced your onlin...\n",
       "1449  What social platform has influenced your onlin...\n",
       "\n",
       "[1450 rows x 1 columns]"
      ]
     },
     "execution_count": 25,
     "metadata": {},
     "output_type": "execute_result"
    }
   ],
   "source": [
    "data.iloc[:, :1]#dataframe"
   ]
  },
  {
   "cell_type": "code",
   "execution_count": 10,
   "metadata": {},
   "outputs": [
    {
     "data": {
      "text/plain": [
       "0       0.205\n",
       "1       0.342\n",
       "2       0.032\n",
       "3       0.067\n",
       "4       0.354\n",
       "        ...  \n",
       "1445    0.180\n",
       "1446    0.297\n",
       "1447    0.037\n",
       "1448    0.074\n",
       "1449    0.412\n",
       "Name: Percentage, Length: 1450, dtype: float64"
      ]
     },
     "execution_count": 10,
     "metadata": {},
     "output_type": "execute_result"
    }
   ],
   "source": [
    " #select the last data columns\n",
    "data.iloc[:, -1]"
   ]
  },
  {
   "cell_type": "code",
   "execution_count": 23,
   "metadata": {},
   "outputs": [],
   "source": [
    "#Select the 100th data sample to the 200th data sample\n",
    "range = data.iloc[100:201]"
   ]
  },
  {
   "cell_type": "code",
   "execution_count": 24,
   "metadata": {},
   "outputs": [
    {
     "data": {
      "text/html": [
       "<div>\n",
       "<style scoped>\n",
       "    .dataframe tbody tr th:only-of-type {\n",
       "        vertical-align: middle;\n",
       "    }\n",
       "\n",
       "    .dataframe tbody tr th {\n",
       "        vertical-align: top;\n",
       "    }\n",
       "\n",
       "    .dataframe thead th {\n",
       "        text-align: right;\n",
       "    }\n",
       "</style>\n",
       "<table border=\"1\" class=\"dataframe\">\n",
       "  <thead>\n",
       "    <tr style=\"text-align: right;\">\n",
       "      <th></th>\n",
       "      <th>Question</th>\n",
       "      <th>Segment Type</th>\n",
       "      <th>Segment Description</th>\n",
       "      <th>Answer</th>\n",
       "      <th>Count</th>\n",
       "      <th>Percentage</th>\n",
       "    </tr>\n",
       "  </thead>\n",
       "  <tbody>\n",
       "    <tr>\n",
       "      <th>100</th>\n",
       "      <td>What social platform has influenced your onlin...</td>\n",
       "      <td>University</td>\n",
       "      <td>University of Toronto</td>\n",
       "      <td>Facebook</td>\n",
       "      <td>1</td>\n",
       "      <td>0.333</td>\n",
       "    </tr>\n",
       "    <tr>\n",
       "      <th>101</th>\n",
       "      <td>What social platform has influenced your onlin...</td>\n",
       "      <td>University</td>\n",
       "      <td>University of Toronto</td>\n",
       "      <td>Instagram</td>\n",
       "      <td>1</td>\n",
       "      <td>0.333</td>\n",
       "    </tr>\n",
       "    <tr>\n",
       "      <th>102</th>\n",
       "      <td>What social platform has influenced your onlin...</td>\n",
       "      <td>University</td>\n",
       "      <td>University of Toronto</td>\n",
       "      <td>Snapchat</td>\n",
       "      <td>0</td>\n",
       "      <td>0.000</td>\n",
       "    </tr>\n",
       "    <tr>\n",
       "      <th>103</th>\n",
       "      <td>What social platform has influenced your onlin...</td>\n",
       "      <td>University</td>\n",
       "      <td>University of Toronto</td>\n",
       "      <td>Twitter</td>\n",
       "      <td>0</td>\n",
       "      <td>0.000</td>\n",
       "    </tr>\n",
       "    <tr>\n",
       "      <th>104</th>\n",
       "      <td>What social platform has influenced your onlin...</td>\n",
       "      <td>University</td>\n",
       "      <td>University of Toronto</td>\n",
       "      <td>NaN</td>\n",
       "      <td>1</td>\n",
       "      <td>0.333</td>\n",
       "    </tr>\n",
       "    <tr>\n",
       "      <th>...</th>\n",
       "      <td>...</td>\n",
       "      <td>...</td>\n",
       "      <td>...</td>\n",
       "      <td>...</td>\n",
       "      <td>...</td>\n",
       "      <td>...</td>\n",
       "    </tr>\n",
       "    <tr>\n",
       "      <th>196</th>\n",
       "      <td>What social platform has influenced your onlin...</td>\n",
       "      <td>University</td>\n",
       "      <td>Lock Haven University</td>\n",
       "      <td>Instagram</td>\n",
       "      <td>0</td>\n",
       "      <td>0.000</td>\n",
       "    </tr>\n",
       "    <tr>\n",
       "      <th>197</th>\n",
       "      <td>What social platform has influenced your onlin...</td>\n",
       "      <td>University</td>\n",
       "      <td>Lock Haven University</td>\n",
       "      <td>Snapchat</td>\n",
       "      <td>0</td>\n",
       "      <td>0.000</td>\n",
       "    </tr>\n",
       "    <tr>\n",
       "      <th>198</th>\n",
       "      <td>What social platform has influenced your onlin...</td>\n",
       "      <td>University</td>\n",
       "      <td>Lock Haven University</td>\n",
       "      <td>Twitter</td>\n",
       "      <td>0</td>\n",
       "      <td>0.000</td>\n",
       "    </tr>\n",
       "    <tr>\n",
       "      <th>199</th>\n",
       "      <td>What social platform has influenced your onlin...</td>\n",
       "      <td>University</td>\n",
       "      <td>Lock Haven University</td>\n",
       "      <td>NaN</td>\n",
       "      <td>0</td>\n",
       "      <td>0.000</td>\n",
       "    </tr>\n",
       "    <tr>\n",
       "      <th>200</th>\n",
       "      <td>What social platform has influenced your onlin...</td>\n",
       "      <td>University</td>\n",
       "      <td>Kalamazoo College</td>\n",
       "      <td>Facebook</td>\n",
       "      <td>0</td>\n",
       "      <td>0.000</td>\n",
       "    </tr>\n",
       "  </tbody>\n",
       "</table>\n",
       "<p>101 rows × 6 columns</p>\n",
       "</div>"
      ],
      "text/plain": [
       "                                              Question Segment Type  \\\n",
       "100  What social platform has influenced your onlin...   University   \n",
       "101  What social platform has influenced your onlin...   University   \n",
       "102  What social platform has influenced your onlin...   University   \n",
       "103  What social platform has influenced your onlin...   University   \n",
       "104  What social platform has influenced your onlin...   University   \n",
       "..                                                 ...          ...   \n",
       "196  What social platform has influenced your onlin...   University   \n",
       "197  What social platform has influenced your onlin...   University   \n",
       "198  What social platform has influenced your onlin...   University   \n",
       "199  What social platform has influenced your onlin...   University   \n",
       "200  What social platform has influenced your onlin...   University   \n",
       "\n",
       "       Segment Description     Answer  Count  Percentage  \n",
       "100  University of Toronto   Facebook      1       0.333  \n",
       "101  University of Toronto  Instagram      1       0.333  \n",
       "102  University of Toronto   Snapchat      0       0.000  \n",
       "103  University of Toronto    Twitter      0       0.000  \n",
       "104  University of Toronto        NaN      1       0.333  \n",
       "..                     ...        ...    ...         ...  \n",
       "196  Lock Haven University  Instagram      0       0.000  \n",
       "197  Lock Haven University   Snapchat      0       0.000  \n",
       "198  Lock Haven University    Twitter      0       0.000  \n",
       "199  Lock Haven University        NaN      0       0.000  \n",
       "200      Kalamazoo College   Facebook      0       0.000  \n",
       "\n",
       "[101 rows x 6 columns]"
      ]
     },
     "execution_count": 24,
     "metadata": {},
     "output_type": "execute_result"
    }
   ],
   "source": [
    "range"
   ]
  },
  {
   "cell_type": "code",
   "execution_count": 16,
   "metadata": {},
   "outputs": [
    {
     "data": {
      "text/html": [
       "<div>\n",
       "<style scoped>\n",
       "    .dataframe tbody tr th:only-of-type {\n",
       "        vertical-align: middle;\n",
       "    }\n",
       "\n",
       "    .dataframe tbody tr th {\n",
       "        vertical-align: top;\n",
       "    }\n",
       "\n",
       "    .dataframe thead th {\n",
       "        text-align: right;\n",
       "    }\n",
       "</style>\n",
       "<table border=\"1\" class=\"dataframe\">\n",
       "  <thead>\n",
       "    <tr style=\"text-align: right;\">\n",
       "      <th></th>\n",
       "      <th>Count</th>\n",
       "      <th>Percentage</th>\n",
       "    </tr>\n",
       "  </thead>\n",
       "  <tbody>\n",
       "    <tr>\n",
       "      <th>count</th>\n",
       "      <td>101.000000</td>\n",
       "      <td>101.000000</td>\n",
       "    </tr>\n",
       "    <tr>\n",
       "      <th>mean</th>\n",
       "      <td>0.485149</td>\n",
       "      <td>0.198010</td>\n",
       "    </tr>\n",
       "    <tr>\n",
       "      <th>std</th>\n",
       "      <td>1.261855</td>\n",
       "      <td>0.365484</td>\n",
       "    </tr>\n",
       "    <tr>\n",
       "      <th>min</th>\n",
       "      <td>0.000000</td>\n",
       "      <td>0.000000</td>\n",
       "    </tr>\n",
       "    <tr>\n",
       "      <th>25%</th>\n",
       "      <td>0.000000</td>\n",
       "      <td>0.000000</td>\n",
       "    </tr>\n",
       "    <tr>\n",
       "      <th>50%</th>\n",
       "      <td>0.000000</td>\n",
       "      <td>0.000000</td>\n",
       "    </tr>\n",
       "    <tr>\n",
       "      <th>75%</th>\n",
       "      <td>1.000000</td>\n",
       "      <td>0.263000</td>\n",
       "    </tr>\n",
       "    <tr>\n",
       "      <th>max</th>\n",
       "      <td>10.000000</td>\n",
       "      <td>1.000000</td>\n",
       "    </tr>\n",
       "  </tbody>\n",
       "</table>\n",
       "</div>"
      ],
      "text/plain": [
       "            Count  Percentage\n",
       "count  101.000000  101.000000\n",
       "mean     0.485149    0.198010\n",
       "std      1.261855    0.365484\n",
       "min      0.000000    0.000000\n",
       "25%      0.000000    0.000000\n",
       "50%      0.000000    0.000000\n",
       "75%      1.000000    0.263000\n",
       "max     10.000000    1.000000"
      ]
     },
     "execution_count": 16,
     "metadata": {},
     "output_type": "execute_result"
    }
   ],
   "source": [
    "# Perform basic statistics on the result of 3\n",
    "range.describe()"
   ]
  },
  {
   "cell_type": "code",
   "execution_count": 17,
   "metadata": {},
   "outputs": [
    {
     "name": "stdout",
     "output_type": "stream",
     "text": [
      "<class 'pandas.core.frame.DataFrame'>\n",
      "RangeIndex: 101 entries, 100 to 200\n",
      "Data columns (total 6 columns):\n",
      " #   Column               Non-Null Count  Dtype  \n",
      "---  ------               --------------  -----  \n",
      " 0   Question             101 non-null    object \n",
      " 1   Segment Type         101 non-null    object \n",
      " 2   Segment Description  101 non-null    object \n",
      " 3   Answer               81 non-null     object \n",
      " 4   Count                101 non-null    int64  \n",
      " 5   Percentage           101 non-null    float64\n",
      "dtypes: float64(1), int64(1), object(4)\n",
      "memory usage: 4.9+ KB\n"
     ]
    }
   ],
   "source": [
    "range.info()"
   ]
  }
 ],
 "metadata": {
  "kernelspec": {
   "display_name": "Python 3",
   "language": "python",
   "name": "python3"
  },
  "language_info": {
   "codemirror_mode": {
    "name": "ipython",
    "version": 3
   },
   "file_extension": ".py",
   "mimetype": "text/x-python",
   "name": "python",
   "nbconvert_exporter": "python",
   "pygments_lexer": "ipython3",
   "version": "3.10.12"
  }
 },
 "nbformat": 4,
 "nbformat_minor": 2
}
