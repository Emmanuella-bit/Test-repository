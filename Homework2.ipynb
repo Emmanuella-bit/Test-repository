{
 "cells": [
  {
   "cell_type": "code",
   "execution_count": null,
   "metadata": {},
   "outputs": [],
   "source": [
    "\"\"\"\"create a dictionary of your own data and convert it to a dataframe\n",
    "do some basic exploratory analysis on the data\"\"\""
   ]
  },
  {
   "cell_type": "code",
   "execution_count": 3,
   "metadata": {},
   "outputs": [],
   "source": [
    "import pandas as pd\n",
    "data = {\"Housing_type\": [\"Single_room\", \"apartment\",\"studio\", \"Bangalow\"],\n",
    "              \"Number_of_rooms\": [\"1\", \"2\", \"1\", \"3\"],\n",
    "              \"Housing_condition\": [\"good_condition\", \"fully_furnished\", \"small\", \"poor_condition\"],\n",
    "              \"Location\": [\"Augsburg\", \"Landshut\", \"München\", \"Passau\"],\n",
    "              }"
   ]
  },
  {
   "cell_type": "code",
   "execution_count": 9,
   "metadata": {},
   "outputs": [],
   "source": [
    "dt = pd.DataFrame(data) "
   ]
  },
  {
   "cell_type": "code",
   "execution_count": 10,
   "metadata": {},
   "outputs": [
    {
     "name": "stdout",
     "output_type": "stream",
     "text": [
      "  Housing_type Number_of_rooms Housing_condition  Location\n",
      "0  Single_room               1    good_condition  Augsburg\n",
      "1    apartment               2   fully_furnished  Landshut\n",
      "2       studio               1             small   München\n",
      "3     Bangalow               3    poor_condition    Passau\n"
     ]
    }
   ],
   "source": [
    "print (dt)\n"
   ]
  },
  {
   "cell_type": "code",
   "execution_count": 11,
   "metadata": {},
   "outputs": [
    {
     "name": "stdout",
     "output_type": "stream",
     "text": [
      "<class 'pandas.core.frame.DataFrame'>\n",
      "RangeIndex: 4 entries, 0 to 3\n",
      "Data columns (total 4 columns):\n",
      " #   Column             Non-Null Count  Dtype \n",
      "---  ------             --------------  ----- \n",
      " 0   Housing_type       4 non-null      object\n",
      " 1   Number_of_rooms    4 non-null      object\n",
      " 2   Housing_condition  4 non-null      object\n",
      " 3   Location           4 non-null      object\n",
      "dtypes: object(4)\n",
      "memory usage: 256.0+ bytes\n",
      "None\n"
     ]
    }
   ],
   "source": [
    "print(dt.info())\n"
   ]
  },
  {
   "cell_type": "code",
   "execution_count": 12,
   "metadata": {},
   "outputs": [
    {
     "name": "stdout",
     "output_type": "stream",
     "text": [
      "       Housing_type Number_of_rooms Housing_condition  Location\n",
      "count             4               4                 4         4\n",
      "unique            4               3                 4         4\n",
      "top     Single_room               1    good_condition  Augsburg\n",
      "freq              1               2                 1         1\n"
     ]
    }
   ],
   "source": [
    "print(dt.describe())\n"
   ]
  }
 ],
 "metadata": {
  "kernelspec": {
   "display_name": "Python 3",
   "language": "python",
   "name": "python3"
  },
  "language_info": {
   "codemirror_mode": {
    "name": "ipython",
    "version": 3
   },
   "file_extension": ".py",
   "mimetype": "text/x-python",
   "name": "python",
   "nbconvert_exporter": "python",
   "pygments_lexer": "ipython3",
   "version": "3.10.12"
  }
 },
 "nbformat": 4,
 "nbformat_minor": 2
}
