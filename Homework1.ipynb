{
 "cells": [
  {
   "cell_type": "code",
   "execution_count": null,
   "metadata": {},
   "outputs": [],
   "source": [
    "# create a dictionary of cars and their models\n",
    "# get the values of a car called benz\n",
    "# find the length of the models for each car\n",
    "# find the keys and values in the dictionary\n",
    "# change the models of one of the car to different ones\n",
    "# update the dictionary with your own car company and models you would like to create\n",
    "\n",
    "# list\n",
    "# create a list of cars and  it should include duplicates\n",
    "# cast the list of cars to tuple\n",
    "# change the list of cars to a set\n",
    "\n",
    "# play around them, using various methods such a\n"
   ]
  },
  {
   "cell_type": "code",
   "execution_count": 4,
   "metadata": {},
   "outputs": [],
   "source": [
    "#create a dictionary of cars and their models\n",
    "Car_models = {\"Toyota\": [\"Camry\", \"Honda\", \"civic\"],\n",
    "              \"Ford\": [\"Mustang\", \"Explore\", \"Malibu\"],\n",
    "              \"BMW\": [\"x5\", \"3 series\", \"5 series\"],\n",
    "              \"Benz\": [\"GLE\", \"C-class\", \"E-Class\"],\n",
    "              \"Audi\": [\"A4\", \"Q5\", \"A6\"]\n",
    "              }\n"
   ]
  },
  {
   "cell_type": "code",
   "execution_count": 2,
   "metadata": {},
   "outputs": [
    {
     "data": {
      "text/plain": [
       "['GLE', 'C-class', 'E-Class']"
      ]
     },
     "execution_count": 2,
     "metadata": {},
     "output_type": "execute_result"
    }
   ],
   "source": [
    "# get the values of a car called benz\n",
    "Car_models[\"Benz\"]"
   ]
  },
  {
   "cell_type": "code",
   "execution_count": 8,
   "metadata": {},
   "outputs": [
    {
     "data": {
      "text/plain": [
       "3"
      ]
     },
     "execution_count": 8,
     "metadata": {},
     "output_type": "execute_result"
    }
   ],
   "source": [
    "# find the length of the models for each car\n",
    "len(Car_models[\"Toyota\"])"
   ]
  },
  {
   "cell_type": "code",
   "execution_count": 9,
   "metadata": {},
   "outputs": [
    {
     "data": {
      "text/plain": [
       "3"
      ]
     },
     "execution_count": 9,
     "metadata": {},
     "output_type": "execute_result"
    }
   ],
   "source": [
    "len(Car_models[\"Ford\"])"
   ]
  },
  {
   "cell_type": "code",
   "execution_count": 10,
   "metadata": {},
   "outputs": [
    {
     "data": {
      "text/plain": [
       "3"
      ]
     },
     "execution_count": 10,
     "metadata": {},
     "output_type": "execute_result"
    }
   ],
   "source": [
    "len(Car_models[\"BMW\"])"
   ]
  },
  {
   "cell_type": "code",
   "execution_count": 11,
   "metadata": {},
   "outputs": [
    {
     "data": {
      "text/plain": [
       "3"
      ]
     },
     "execution_count": 11,
     "metadata": {},
     "output_type": "execute_result"
    }
   ],
   "source": [
    "len(Car_models[\"Benz\"])"
   ]
  },
  {
   "cell_type": "code",
   "execution_count": 12,
   "metadata": {},
   "outputs": [
    {
     "data": {
      "text/plain": [
       "3"
      ]
     },
     "execution_count": 12,
     "metadata": {},
     "output_type": "execute_result"
    }
   ],
   "source": [
    "len(Car_models[\"Audi\"])"
   ]
  },
  {
   "cell_type": "code",
   "execution_count": 13,
   "metadata": {},
   "outputs": [
    {
     "data": {
      "text/plain": [
       "dict_keys(['Toyota', 'Ford', 'BMW', 'Benz', 'Audi'])"
      ]
     },
     "execution_count": 13,
     "metadata": {},
     "output_type": "execute_result"
    }
   ],
   "source": [
    "# find the keys and values in the dictionary\n",
    "Car_models.keys()"
   ]
  },
  {
   "cell_type": "code",
   "execution_count": 14,
   "metadata": {},
   "outputs": [
    {
     "data": {
      "text/plain": [
       "dict_values([['Camry', 'Honda', 'civic'], ['Mustang', 'Explore', 'Malibu'], ['x5', '3 series', '5 series'], ['GLE', 'C-class', 'E-Class'], ['A4', 'Q5', 'A6']])"
      ]
     },
     "execution_count": 14,
     "metadata": {},
     "output_type": "execute_result"
    }
   ],
   "source": [
    "Car_models.values()"
   ]
  },
  {
   "cell_type": "code",
   "execution_count": 15,
   "metadata": {},
   "outputs": [
    {
     "data": {
      "text/plain": [
       "dict_items([('Toyota', ['Camry', 'Honda', 'civic']), ('Ford', ['Mustang', 'Explore', 'Malibu']), ('BMW', ['x5', '3 series', '5 series']), ('Benz', ['GLE', 'C-class', 'E-Class']), ('Audi', ['A4', 'Q5', 'A6'])])"
      ]
     },
     "execution_count": 15,
     "metadata": {},
     "output_type": "execute_result"
    }
   ],
   "source": [
    "Car_models.items()"
   ]
  },
  {
   "cell_type": "code",
   "execution_count": 16,
   "metadata": {},
   "outputs": [],
   "source": [
    "# change the models of one of the car to different ones\n",
    "Car_models[\"BMW\"] = [\"7 series\", \"4 series\", \"X3\"]"
   ]
  },
  {
   "cell_type": "code",
   "execution_count": 17,
   "metadata": {},
   "outputs": [
    {
     "data": {
      "text/plain": [
       "['7 series', '4 series', 'X3']"
      ]
     },
     "execution_count": 17,
     "metadata": {},
     "output_type": "execute_result"
    }
   ],
   "source": [
    "Car_models[\"BMW\"]"
   ]
  },
  {
   "cell_type": "code",
   "execution_count": 19,
   "metadata": {},
   "outputs": [],
   "source": [
    "# update the dictionary with your own car company and models you would like to create\n",
    "Car_models.update({\"Volkswagen\": [\"Golf\", \"Passat\", \"Tiguan\"]})"
   ]
  },
  {
   "cell_type": "code",
   "execution_count": 20,
   "metadata": {},
   "outputs": [
    {
     "data": {
      "text/plain": [
       "{'Toyota': ['Camry', 'Honda', 'civic'],\n",
       " 'Ford': ['Mustang', 'Explore', 'Malibu'],\n",
       " 'BMW': ['7 series', '4 series', 'X3'],\n",
       " 'Benz': ['GLE', 'C-class', 'E-Class'],\n",
       " 'Audi': ['A4', 'Q5', 'A6'],\n",
       " 'Volkswagen': ['Golf', 'Passat', 'Tiguan']}"
      ]
     },
     "execution_count": 20,
     "metadata": {},
     "output_type": "execute_result"
    }
   ],
   "source": [
    "Car_models"
   ]
  },
  {
   "cell_type": "code",
   "execution_count": 21,
   "metadata": {},
   "outputs": [],
   "source": [
    "# create a list of cars and  it should include duplicates\n",
    "cars_list = [\"lexus\", \"jeep\", \"jeep\", \"lexus\", \"Tesla\", \"Nissan\"]"
   ]
  },
  {
   "cell_type": "code",
   "execution_count": 22,
   "metadata": {},
   "outputs": [],
   "source": [
    "# cast the list of cars to tuple\n",
    "cars_tuple = (\"lexus\", \"jeep\", \"jeep\", \"lexus\", \"Tesla\", \"Nissan\")"
   ]
  },
  {
   "cell_type": "code",
   "execution_count": 23,
   "metadata": {},
   "outputs": [],
   "source": [
    "# change the list of cars to a set\n",
    "cars_set = {\"lexus\", \"jeep\", \"jeep\", \"lexus\", \"Tesla\", \"Nissan\"}"
   ]
  },
  {
   "cell_type": "code",
   "execution_count": null,
   "metadata": {},
   "outputs": [],
   "source": [
    "# play around them, using various methods\n",
    "# For list"
   ]
  },
  {
   "cell_type": "code",
   "execution_count": null,
   "metadata": {},
   "outputs": [],
   "source": [
    "#For tuple"
   ]
  },
  {
   "cell_type": "code",
   "execution_count": null,
   "metadata": {},
   "outputs": [],
   "source": [
    "#For sets"
   ]
  }
 ],
 "metadata": {
  "kernelspec": {
   "display_name": "Python 3",
   "language": "python",
   "name": "python3"
  },
  "language_info": {
   "codemirror_mode": {
    "name": "ipython",
    "version": 3
   },
   "file_extension": ".py",
   "mimetype": "text/x-python",
   "name": "python",
   "nbconvert_exporter": "python",
   "pygments_lexer": "ipython3",
   "version": "3.10.12"
  }
 },
 "nbformat": 4,
 "nbformat_minor": 2
}
